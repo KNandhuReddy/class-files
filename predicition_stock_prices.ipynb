{
 "cells": [
  {
   "cell_type": "markdown",
   "metadata": {},
   "source": [
    "Predicting stock prices with neural networks"
   ]
  },
  {
   "cell_type": "code",
   "execution_count": 1,
   "metadata": {},
   "outputs": [
    {
     "name": "stdout",
     "output_type": "stream",
     "text": [
      "Requirement already satisfied: pandas in c:\\users\\nandhu\\appdata\\local\\programs\\python\\python310\\lib\\site-packages (1.5.3)Note: you may need to restart the kernel to use updated packages.\n",
      "\n",
      "Requirement already satisfied: python-dateutil>=2.8.1 in c:\\users\\nandhu\\appdata\\local\\programs\\python\\python310\\lib\\site-packages (from pandas) (2.8.2)\n",
      "Requirement already satisfied: pytz>=2020.1 in c:\\users\\nandhu\\appdata\\local\\programs\\python\\python310\\lib\\site-packages (from pandas) (2022.7.1)\n",
      "Requirement already satisfied: numpy>=1.21.0 in c:\\users\\nandhu\\appdata\\local\\programs\\python\\python310\\lib\\site-packages (from pandas) (1.23.5)\n",
      "Requirement already satisfied: six>=1.5 in c:\\users\\nandhu\\appdata\\local\\programs\\python\\python310\\lib\\site-packages (from python-dateutil>=2.8.1->pandas) (1.16.0)\n"
     ]
    },
    {
     "name": "stderr",
     "output_type": "stream",
     "text": [
      "\n",
      "[notice] A new release of pip is available: 23.1 -> 23.1.2\n",
      "[notice] To update, run: python.exe -m pip install --upgrade pip\n"
     ]
    }
   ],
   "source": [
    "pip install pandas"
   ]
  },
  {
   "cell_type": "code",
   "execution_count": 76,
   "metadata": {
    "id": "i4eupyOuedt9"
   },
   "outputs": [],
   "source": [
    "import pandas as pd\n",
    "mydata = pd.read_csv('../deeplearning_project/19880301_20191231.csv',index_col = 'Date')"
   ]
  },
  {
   "cell_type": "code",
   "execution_count": 77,
   "metadata": {
    "colab": {
     "base_uri": "https://localhost:8080/",
     "height": 300
    },
    "id": "t4nNu6HTfQsx",
    "outputId": "eb8ca748-46b1-49e3-b330-eed274b8cfd0"
   },
   "outputs": [
    {
     "data": {
      "text/html": [
       "<div>\n",
       "<style scoped>\n",
       "    .dataframe tbody tr th:only-of-type {\n",
       "        vertical-align: middle;\n",
       "    }\n",
       "\n",
       "    .dataframe tbody tr th {\n",
       "        vertical-align: top;\n",
       "    }\n",
       "\n",
       "    .dataframe thead th {\n",
       "        text-align: right;\n",
       "    }\n",
       "</style>\n",
       "<table border=\"1\" class=\"dataframe\">\n",
       "  <thead>\n",
       "    <tr style=\"text-align: right;\">\n",
       "      <th></th>\n",
       "      <th>Open</th>\n",
       "      <th>High</th>\n",
       "      <th>Low</th>\n",
       "      <th>Close</th>\n",
       "      <th>Volume</th>\n",
       "    </tr>\n",
       "    <tr>\n",
       "      <th>Date</th>\n",
       "      <th></th>\n",
       "      <th></th>\n",
       "      <th></th>\n",
       "      <th></th>\n",
       "      <th></th>\n",
       "    </tr>\n",
       "  </thead>\n",
       "  <tbody>\n",
       "    <tr>\n",
       "      <th>1988-03-01</th>\n",
       "      <td>2071.60</td>\n",
       "      <td>2086.90</td>\n",
       "      <td>2048.60</td>\n",
       "      <td>2070.50</td>\n",
       "      <td>23629436</td>\n",
       "    </tr>\n",
       "    <tr>\n",
       "      <th>1988-03-02</th>\n",
       "      <td>2070.50</td>\n",
       "      <td>2094.50</td>\n",
       "      <td>2058.20</td>\n",
       "      <td>2071.30</td>\n",
       "      <td>19923259</td>\n",
       "    </tr>\n",
       "    <tr>\n",
       "      <th>1988-03-03</th>\n",
       "      <td>2071.30</td>\n",
       "      <td>2085.40</td>\n",
       "      <td>2048.40</td>\n",
       "      <td>2063.50</td>\n",
       "      <td>18375000</td>\n",
       "    </tr>\n",
       "    <tr>\n",
       "      <th>1988-03-04</th>\n",
       "      <td>2063.50</td>\n",
       "      <td>2076.80</td>\n",
       "      <td>2033.50</td>\n",
       "      <td>2057.90</td>\n",
       "      <td>16657983</td>\n",
       "    </tr>\n",
       "    <tr>\n",
       "      <th>1988-03-07</th>\n",
       "      <td>2057.90</td>\n",
       "      <td>2069.30</td>\n",
       "      <td>2034.20</td>\n",
       "      <td>2056.40</td>\n",
       "      <td>14094676</td>\n",
       "    </tr>\n",
       "    <tr>\n",
       "      <th>...</th>\n",
       "      <td>...</td>\n",
       "      <td>...</td>\n",
       "      <td>...</td>\n",
       "      <td>...</td>\n",
       "      <td>...</td>\n",
       "    </tr>\n",
       "    <tr>\n",
       "      <th>2019-12-24</th>\n",
       "      <td>28572.57</td>\n",
       "      <td>28576.80</td>\n",
       "      <td>28503.21</td>\n",
       "      <td>28515.45</td>\n",
       "      <td>86151979</td>\n",
       "    </tr>\n",
       "    <tr>\n",
       "      <th>2019-12-26</th>\n",
       "      <td>28539.46</td>\n",
       "      <td>28624.10</td>\n",
       "      <td>28535.15</td>\n",
       "      <td>28621.39</td>\n",
       "      <td>156025977</td>\n",
       "    </tr>\n",
       "    <tr>\n",
       "      <th>2019-12-27</th>\n",
       "      <td>28675.34</td>\n",
       "      <td>28701.66</td>\n",
       "      <td>28608.98</td>\n",
       "      <td>28645.26</td>\n",
       "      <td>182181663</td>\n",
       "    </tr>\n",
       "    <tr>\n",
       "      <th>2019-12-30</th>\n",
       "      <td>28654.76</td>\n",
       "      <td>28664.69</td>\n",
       "      <td>28428.98</td>\n",
       "      <td>28462.14</td>\n",
       "      <td>181507192</td>\n",
       "    </tr>\n",
       "    <tr>\n",
       "      <th>2019-12-31</th>\n",
       "      <td>28414.64</td>\n",
       "      <td>28547.35</td>\n",
       "      <td>28376.49</td>\n",
       "      <td>28538.44</td>\n",
       "      <td>193336533</td>\n",
       "    </tr>\n",
       "  </tbody>\n",
       "</table>\n",
       "<p>8024 rows × 5 columns</p>\n",
       "</div>"
      ],
      "text/plain": [
       "                Open      High       Low     Close     Volume\n",
       "Date                                                         \n",
       "1988-03-01   2071.60   2086.90   2048.60   2070.50   23629436\n",
       "1988-03-02   2070.50   2094.50   2058.20   2071.30   19923259\n",
       "1988-03-03   2071.30   2085.40   2048.40   2063.50   18375000\n",
       "1988-03-04   2063.50   2076.80   2033.50   2057.90   16657983\n",
       "1988-03-07   2057.90   2069.30   2034.20   2056.40   14094676\n",
       "...              ...       ...       ...       ...        ...\n",
       "2019-12-24  28572.57  28576.80  28503.21  28515.45   86151979\n",
       "2019-12-26  28539.46  28624.10  28535.15  28621.39  156025977\n",
       "2019-12-27  28675.34  28701.66  28608.98  28645.26  182181663\n",
       "2019-12-30  28654.76  28664.69  28428.98  28462.14  181507192\n",
       "2019-12-31  28414.64  28547.35  28376.49  28538.44  193336533\n",
       "\n",
       "[8024 rows x 5 columns]"
      ]
     },
     "execution_count": 77,
     "metadata": {},
     "output_type": "execute_result"
    }
   ],
   "source": [
    "mydata"
   ]
  },
  {
   "cell_type": "markdown",
   "metadata": {},
   "source": [
    "we implement feature generation , generating features is to extract more relevant information from the historical price and performance data of a stock or index. That identify the patterns, trends, and relationships that can be used to make more accurate predictions about future price movements."
   ]
  },
  {
   "cell_type": "code",
   "execution_count": 6,
   "metadata": {
    "id": "di8GrJh3fz_8"
   },
   "outputs": [],
   "source": [
    "def add_original_feature(df, df_new):\n",
    "  df_new['open'] = df['Open']\n",
    "  df_new['open_1'] = df['Open'].shift(1)\n",
    "  df_new['close_1'] = df['Close'].shift(1)\n",
    "  df_new['high_1'] = df['High'].shift(1)\n",
    "  df_new['low_1'] = df['Low'].shift (1)\n",
    "  df_new['volume_1'] = df[ 'Volume'].shift(1)"
   ]
  },
  {
   "cell_type": "markdown",
   "metadata": {},
   "source": [
    "generates six features related to average close prices"
   ]
  },
  {
   "cell_type": "code",
   "execution_count": 7,
   "metadata": {
    "id": "1Mo7pwF-o-8a"
   },
   "outputs": [],
   "source": [
    "def add_avg_price(df, df_new):\n",
    "  df_new['avg_price_5'] = df['Close'].rolling (5).mean().shift (1)\n",
    "  df_new['avg_price_30'] = df['Close'].rolling (21).mean().shift(1)\n",
    "  df_new['avg_price_365'] = df['Close'].rolling (252).mean().shift(1)\n",
    "  df_new['ratio_avg_price_5_30'] = df_new['avg_price_5'] / df_new['avg_price_30'] \n",
    "  df_new['ratio_avg_price_5_365'] = df_new['avg_price_5'] / df_new['avg_price_365']\n",
    "  df_new['ratio_avg_price_30_365'] = df_new['avg_price_30'] / df_new['avg_price_365']"
   ]
  },
  {
   "cell_type": "markdown",
   "metadata": {},
   "source": [
    "generates six features related to average volumes"
   ]
  },
  {
   "cell_type": "code",
   "execution_count": 8,
   "metadata": {
    "id": "scyW0YMypdlS"
   },
   "outputs": [],
   "source": [
    "def add_avg_volume (df, df_new):\n",
    "  df_new['avg_volume_5'] = df[ 'Volume'].rolling (5).mean().shift(1)\n",
    "  df_new['avg_volume_30'] = df[ 'Volume'].rolling (21).mean().shift (1)\n",
    "  df_new['avg_volume_365'] = df['Volume'].rolling (252).mean().shift(1)\n",
    "  df_new['ratio_avg_volume_5_30'] = df_new['avg_volume_5'] / df_new['avg_volume_30']\n",
    "  df_new['ratio_avg_volume_5_365'] = df_new['avg_volume_5'] / df_new['avg_volume_365']\n",
    "  df_new['ratio_avg_volume_30_365'] = df_new['avg_volume_30'] / df_new['avg_volume_365']"
   ]
  },
  {
   "cell_type": "markdown",
   "metadata": {},
   "source": [
    "standard deviation for the price related features"
   ]
  },
  {
   "cell_type": "code",
   "execution_count": 9,
   "metadata": {
    "id": "Zq8ah0cJp9Eb"
   },
   "outputs": [],
   "source": [
    "def add_std_price(df, df_new):\n",
    "  df_new['std_price_5'] = df['Close'].rolling(5).std().shift(1)\n",
    "  df_new['std_price_30'] = df['Close'].rolling (21).std().shift(1)\n",
    "  df_new['std_price_365'] = df['Close'].rolling(252).std().shift(1)\n",
    "  df_new['ratio_std_price_5_30'] = df_new['std_price_5'] / df_new['std_price_30']\n",
    "  df_new['ratio_std_price_5_365'] = df_new['std_price_5'] / df_new['std_price_365']\n",
    "  df_new['ratio_std_price_30_364'] = df_new['std_price_30'] / df_new['std_price_365']"
   ]
  },
  {
   "cell_type": "markdown",
   "metadata": {},
   "source": [
    "generates six volume-based standard deviation features"
   ]
  },
  {
   "cell_type": "code",
   "execution_count": 10,
   "metadata": {
    "id": "2jtFBG_yqgOT"
   },
   "outputs": [],
   "source": [
    "def add_std_volume(df, df_new):\n",
    "\n",
    "  df_new['std_volume_5'] = df[ 'Volume'].rolling(5).std().shift (1)\n",
    "  df_new['std_volume_30'] = df['Volume'].rolling (21).std().shift(1)\n",
    "  df_new['std_volume_365'] = df['Volume'].rolling(252).std().shift(1)\n",
    "  df_new['ratio_std_volume_5_30'] = df_new['std_volume_5'] / df_new['std_volume_30']\n",
    "  df_new['ratio_std_volume_5_365'] = df_new['std_volume_5'] / df_new['std_volume_365']\n",
    "  df_new['ratio_std_volume_30_365'] = df_new['std_volume_30'] / df_new['std_volume_365']"
   ]
  },
  {
   "cell_type": "markdown",
   "metadata": {},
   "source": [
    "Seven return-based features are generated using the following sub-function"
   ]
  },
  {
   "cell_type": "code",
   "execution_count": 11,
   "metadata": {
    "id": "T0Dz4tU4qgDt"
   },
   "outputs": [],
   "source": [
    "def add_return_feature (df, df_new):\n",
    "  df_new['return_1'] = ((df['Close'] - df['Close'].shift(1))/ df['Close'].shift(1)).shift(1)\n",
    "  df_new['return_5'] = ((df['Close'] - df['Close'].shift (5)) /df['Close'].shift(5)).shift(1)\n",
    "  df_new['return_30'] = ((df['Close'] - df['Close'].shift (21)) / df['Close'].shift (21)).shift(1) \n",
    "  df_new['return_365'] = ((df['Close'] - df['Close'].shift (252)) / df[ 'Close'].shift (252)).shift (1)\n",
    "  df_new['moving_avg_5'] = df_new['return_1'].rolling (5).mean().shift(1)\n",
    "  df_new['moving_avg_30'] = df_new['return_1'].rolling (21).mean().shift (1)\n",
    "  df_new['moving_avg_365'] = df_new['return_1'].rolling(252).mean().shift (1)"
   ]
  },
  {
   "cell_type": "markdown",
   "metadata": {},
   "source": [
    "Now put together the main feature generation function that calls all the preceding sub-functions"
   ]
  },
  {
   "cell_type": "code",
   "execution_count": 12,
   "metadata": {
    "id": "JB2_8Omescid"
   },
   "outputs": [],
   "source": [
    "def generate_features(df):\n",
    "\n",
    "  \"\"\"\n",
    "    Generate features for a stock/index based on historical\n",
    "\n",
    "    price and performance\n",
    "\n",
    "    @param df: dataframe with columns \"Open\", \"Close\", \"High\",\n",
    "\n",
    "    \"Low\", \"Volume\", \"Adjusted Close\" \n",
    "    @return: dataframe, data set with new features\n",
    "  \"\"\"\n",
    "\n",
    "  df_new = pd.DataFrame()\n",
    "  # 6 original features\n",
    "  add_original_feature(df, df_new)\n",
    "  #31 generated features\n",
    "  add_avg_price(df, df_new)\n",
    "  add_avg_volume(df, df_new)\n",
    "  add_std_price(df, df_new)\n",
    "  add_std_volume(df, df_new)\n",
    "  add_return_feature(df, df_new)\n",
    "  #the target\n",
    "  df_new['Close'] = df['Close']\n",
    "  df_new = df_new.dropna(axis=0)\n",
    "  return df_new"
   ]
  },
  {
   "cell_type": "markdown",
   "metadata": {},
   "source": [
    "DJIA data queried from 1988 to 2019"
   ]
  },
  {
   "cell_type": "code",
   "execution_count": 14,
   "metadata": {
    "id": "H5npJcnMs9_W"
   },
   "outputs": [],
   "source": [
    "data_raw = pd.read_csv('../deeplearning_project/19880301_20191231.csv', index_col='Date') \n",
    "data_raw\n",
    "data = generate_features(data_raw)"
   ]
  },
  {
   "cell_type": "code",
   "execution_count": 15,
   "metadata": {
    "colab": {
     "base_uri": "https://localhost:8080/"
    },
    "id": "gNmMjK62ux5b",
    "outputId": "e4554c5d-a8d6-4757-adac-48c100ed6b71"
   },
   "outputs": [
    {
     "name": "stdout",
     "output_type": "stream",
     "text": [
      "              open  open_1  close_1  high_1   low_1    volume_1  avg_price_5  \\\n",
      "Date                                                                           \n",
      "1989-03-02  2243.0  2258.4   2243.0  2277.5  2234.8  20029593.0      2257.36   \n",
      "1989-03-03  2265.7  2243.0   2265.7  2274.8  2239.8  17651480.0      2252.60   \n",
      "1989-03-06  2274.3  2265.7   2274.3  2281.8  2255.0  16621701.0      2258.36   \n",
      "1989-03-07  2294.8  2274.3   2294.8  2302.5  2270.4  16518420.0      2267.24   \n",
      "1989-03-08  2290.7  2294.8   2290.7  2308.6  2278.9  18099861.0      2273.70   \n",
      "\n",
      "            avg_price_30  avg_price_365  ratio_avg_price_5_30  ...  \\\n",
      "Date                                                           ...   \n",
      "1989-03-02      2303.195       2110.341                 0.980  ...   \n",
      "1989-03-03      2299.548       2111.144                 0.980  ...   \n",
      "1989-03-06      2296.505       2112.002                 0.983  ...   \n",
      "1989-03-07      2294.648       2112.948                 0.988  ...   \n",
      "1989-03-08      2292.714       2113.780                 0.992  ...   \n",
      "\n",
      "            ratio_std_volume_5_365  ratio_std_volume_30_365  return_1  \\\n",
      "Date                                                                    \n",
      "1989-03-02                   0.311                    0.988    -0.007   \n",
      "1989-03-03                   0.306                    0.960     0.010   \n",
      "1989-03-06                   0.292                    0.807     0.004   \n",
      "1989-03-07                   0.265                    0.814     0.009   \n",
      "1989-03-08                   0.230                    0.811    -0.002   \n",
      "\n",
      "            return_5  return_30  return_365  moving_avg_5  moving_avg_30  \\\n",
      "Date                                                                       \n",
      "1989-03-02    -0.018     -0.035       0.083        -0.006         -0.001   \n",
      "1989-03-03    -0.010     -0.033       0.098        -0.004         -0.002   \n",
      "1989-03-06     0.013     -0.027       0.105        -0.002         -0.002   \n",
      "1989-03-07     0.020     -0.017       0.116         0.003         -0.001   \n",
      "1989-03-08     0.014     -0.017       0.101         0.004         -0.001   \n",
      "\n",
      "            moving_avg_365   Close  \n",
      "Date                                \n",
      "1989-03-02             0.0  2265.7  \n",
      "1989-03-03             0.0  2274.3  \n",
      "1989-03-06             0.0  2294.8  \n",
      "1989-03-07             0.0  2290.7  \n",
      "1989-03-08             0.0  2295.5  \n",
      "\n",
      "[5 rows x 38 columns]\n"
     ]
    }
   ],
   "source": [
    "print(data.round(decimals=3).head(5))"
   ]
  },
  {
   "cell_type": "markdown",
   "metadata": {
    "id": "aFdYS2FW4BbU"
   },
   "source": [
    "Training the neural network"
   ]
  },
  {
   "cell_type": "markdown",
   "metadata": {},
   "source": [
    "load the stock data, generate features"
   ]
  },
  {
   "cell_type": "code",
   "execution_count": 20,
   "metadata": {
    "id": "6B6oc9i74D4n"
   },
   "outputs": [],
   "source": [
    "data_raw = pd.read_csv('../deeplearning_project/19880301_20191231.csv', index_col='Date')\n",
    "data=generate_features(data_raw)"
   ]
  },
  {
   "cell_type": "markdown",
   "metadata": {},
   "source": [
    "training set using data from 1988 to 2018 and the testing set using data from 2019"
   ]
  },
  {
   "cell_type": "code",
   "execution_count": 85,
   "metadata": {
    "id": "0YHs2LIqLIr2"
   },
   "outputs": [],
   "source": [
    "start_train = '1988-03-01'\n",
    "end_train = '2018-12-31'\n",
    "start_test = '2019-01-01'\n",
    "end_test ='2019-12-31'\n",
    "data_train = data.loc[start_train:end_train]\n",
    "X_train = data_train.drop('Close', axis=1).values\n",
    "y_train = data_train['Close'].values\n",
    "data_test = data.loc[start_test: end_test]\n",
    "X_test = data_test.drop('Close', axis=1).values\n",
    "y_test = data_test['Close'].values"
   ]
  },
  {
   "cell_type": "code",
   "execution_count": 19,
   "metadata": {},
   "outputs": [
    {
     "name": "stdout",
     "output_type": "stream",
     "text": [
      "Requirement already satisfied: scikit-learn in c:\\users\\nandhu\\appdata\\local\\programs\\python\\python310\\lib\\site-packages (1.2.2)\n",
      "Requirement already satisfied: numpy>=1.17.3 in c:\\users\\nandhu\\appdata\\local\\programs\\python\\python310\\lib\\site-packages (from scikit-learn) (1.23.5)\n",
      "Requirement already satisfied: scipy>=1.3.2 in c:\\users\\nandhu\\appdata\\local\\programs\\python\\python310\\lib\\site-packages (from scikit-learn) (1.10.1)\n",
      "Requirement already satisfied: joblib>=1.1.1 in c:\\users\\nandhu\\appdata\\local\\programs\\python\\python310\\lib\\site-packages (from scikit-learn) (1.2.0)\n",
      "Requirement already satisfied: threadpoolctl>=2.0.0 in c:\\users\\nandhu\\appdata\\local\\programs\\python\\python310\\lib\\site-packages (from scikit-learn) (3.1.0)\n",
      "Note: you may need to restart the kernel to use updated packages.\n"
     ]
    },
    {
     "name": "stderr",
     "output_type": "stream",
     "text": [
      "\n",
      "[notice] A new release of pip is available: 23.1 -> 23.1.2\n",
      "[notice] To update, run: python.exe -m pip install --upgrade pip\n"
     ]
    }
   ],
   "source": [
    "pip install scikit-learn"
   ]
  },
  {
   "cell_type": "markdown",
   "metadata": {},
   "source": [
    "Need to normalize features into the same or a comparable scale. so by removing the mean and rescaling \n",
    "to unit variance"
   ]
  },
  {
   "cell_type": "code",
   "execution_count": 22,
   "metadata": {
    "id": "Z8pVtFnzLVcC"
   },
   "outputs": [],
   "source": [
    "from sklearn.preprocessing import StandardScaler\n",
    "scaler = StandardScaler()"
   ]
  },
  {
   "cell_type": "markdown",
   "metadata": {},
   "source": [
    "rescale both sets with the scaler by the training set"
   ]
  },
  {
   "cell_type": "code",
   "execution_count": 23,
   "metadata": {
    "id": "KQXuo9DkLdop"
   },
   "outputs": [],
   "source": [
    "X_scaled_train = scaler.fit_transform(X_train)\n",
    "X_scaled_test = scaler.transform(X_test)"
   ]
  },
  {
   "cell_type": "code",
   "execution_count": 24,
   "metadata": {},
   "outputs": [
    {
     "name": "stdout",
     "output_type": "stream",
     "text": [
      "Requirement already satisfied: tensorflow in c:\\users\\nandhu\\appdata\\local\\programs\\python\\python310\\lib\\site-packages (2.12.0)\n",
      "Requirement already satisfied: tensorflow-intel==2.12.0 in c:\\users\\nandhu\\appdata\\local\\programs\\python\\python310\\lib\\site-packages (from tensorflow) (2.12.0)\n",
      "Requirement already satisfied: absl-py>=1.0.0 in c:\\users\\nandhu\\appdata\\local\\programs\\python\\python310\\lib\\site-packages (from tensorflow-intel==2.12.0->tensorflow) (1.4.0)\n",
      "Requirement already satisfied: astunparse>=1.6.0 in c:\\users\\nandhu\\appdata\\local\\programs\\python\\python310\\lib\\site-packages (from tensorflow-intel==2.12.0->tensorflow) (1.6.3)\n",
      "Requirement already satisfied: flatbuffers>=2.0 in c:\\users\\nandhu\\appdata\\local\\programs\\python\\python310\\lib\\site-packages (from tensorflow-intel==2.12.0->tensorflow) (23.3.3)\n",
      "Requirement already satisfied: gast<=0.4.0,>=0.2.1 in c:\\users\\nandhu\\appdata\\local\\programs\\python\\python310\\lib\\site-packages (from tensorflow-intel==2.12.0->tensorflow) (0.4.0)\n",
      "Requirement already satisfied: google-pasta>=0.1.1 in c:\\users\\nandhu\\appdata\\local\\programs\\python\\python310\\lib\\site-packages (from tensorflow-intel==2.12.0->tensorflow) (0.2.0)\n",
      "Requirement already satisfied: h5py>=2.9.0 in c:\\users\\nandhu\\appdata\\local\\programs\\python\\python310\\lib\\site-packages (from tensorflow-intel==2.12.0->tensorflow) (3.8.0)\n",
      "Requirement already satisfied: jax>=0.3.15 in c:\\users\\nandhu\\appdata\\local\\programs\\python\\python310\\lib\\site-packages (from tensorflow-intel==2.12.0->tensorflow) (0.4.8)\n",
      "Requirement already satisfied: libclang>=13.0.0 in c:\\users\\nandhu\\appdata\\local\\programs\\python\\python310\\lib\\site-packages (from tensorflow-intel==2.12.0->tensorflow) (16.0.0)\n",
      "Requirement already satisfied: numpy<1.24,>=1.22 in c:\\users\\nandhu\\appdata\\local\\programs\\python\\python310\\lib\\site-packages (from tensorflow-intel==2.12.0->tensorflow) (1.23.5)\n",
      "Requirement already satisfied: opt-einsum>=2.3.2 in c:\\users\\nandhu\\appdata\\local\\programs\\python\\python310\\lib\\site-packages (from tensorflow-intel==2.12.0->tensorflow) (3.3.0)\n",
      "Requirement already satisfied: packaging in c:\\users\\nandhu\\appdata\\local\\programs\\python\\python310\\lib\\site-packages (from tensorflow-intel==2.12.0->tensorflow) (23.0)\n",
      "Requirement already satisfied: protobuf!=4.21.0,!=4.21.1,!=4.21.2,!=4.21.3,!=4.21.4,!=4.21.5,<5.0.0dev,>=3.20.3 in c:\\users\\nandhu\\appdata\\local\\programs\\python\\python310\\lib\\site-packages (from tensorflow-intel==2.12.0->tensorflow) (3.20.3)\n",
      "Requirement already satisfied: setuptools in c:\\users\\nandhu\\appdata\\local\\programs\\python\\python310\\lib\\site-packages (from tensorflow-intel==2.12.0->tensorflow) (58.1.0)\n",
      "Requirement already satisfied: six>=1.12.0 in c:\\users\\nandhu\\appdata\\local\\programs\\python\\python310\\lib\\site-packages (from tensorflow-intel==2.12.0->tensorflow) (1.16.0)\n",
      "Requirement already satisfied: termcolor>=1.1.0 in c:\\users\\nandhu\\appdata\\local\\programs\\python\\python310\\lib\\site-packages (from tensorflow-intel==2.12.0->tensorflow) (2.2.0)\n",
      "Requirement already satisfied: typing-extensions>=3.6.6 in c:\\users\\nandhu\\appdata\\local\\programs\\python\\python310\\lib\\site-packages (from tensorflow-intel==2.12.0->tensorflow) (4.5.0)\n",
      "Requirement already satisfied: wrapt<1.15,>=1.11.0 in c:\\users\\nandhu\\appdata\\local\\programs\\python\\python310\\lib\\site-packages (from tensorflow-intel==2.12.0->tensorflow) (1.14.1)\n",
      "Requirement already satisfied: grpcio<2.0,>=1.24.3 in c:\\users\\nandhu\\appdata\\local\\programs\\python\\python310\\lib\\site-packages (from tensorflow-intel==2.12.0->tensorflow) (1.53.0)\n",
      "Requirement already satisfied: tensorboard<2.13,>=2.12 in c:\\users\\nandhu\\appdata\\local\\programs\\python\\python310\\lib\\site-packages (from tensorflow-intel==2.12.0->tensorflow) (2.12.1)\n",
      "Requirement already satisfied: tensorflow-estimator<2.13,>=2.12.0 in c:\\users\\nandhu\\appdata\\local\\programs\\python\\python310\\lib\\site-packages (from tensorflow-intel==2.12.0->tensorflow) (2.12.0)\n",
      "Requirement already satisfied: keras<2.13,>=2.12.0 in c:\\users\\nandhu\\appdata\\local\\programs\\python\\python310\\lib\\site-packages (from tensorflow-intel==2.12.0->tensorflow) (2.12.0)\n",
      "Requirement already satisfied: tensorflow-io-gcs-filesystem>=0.23.1 in c:\\users\\nandhu\\appdata\\local\\programs\\python\\python310\\lib\\site-packages (from tensorflow-intel==2.12.0->tensorflow) (0.31.0)\n",
      "Requirement already satisfied: wheel<1.0,>=0.23.0 in c:\\users\\nandhu\\appdata\\local\\programs\\python\\python310\\lib\\site-packages (from astunparse>=1.6.0->tensorflow-intel==2.12.0->tensorflow) (0.40.0)\n",
      "Requirement already satisfied: ml-dtypes>=0.0.3 in c:\\users\\nandhu\\appdata\\local\\programs\\python\\python310\\lib\\site-packages (from jax>=0.3.15->tensorflow-intel==2.12.0->tensorflow) (0.0.4)\n",
      "Requirement already satisfied: scipy>=1.7 in c:\\users\\nandhu\\appdata\\local\\programs\\python\\python310\\lib\\site-packages (from jax>=0.3.15->tensorflow-intel==2.12.0->tensorflow) (1.10.1)\n",
      "Requirement already satisfied: google-auth<3,>=1.6.3 in c:\\users\\nandhu\\appdata\\local\\programs\\python\\python310\\lib\\site-packages (from tensorboard<2.13,>=2.12->tensorflow-intel==2.12.0->tensorflow) (2.17.1)\n",
      "Requirement already satisfied: google-auth-oauthlib<1.1,>=0.5 in c:\\users\\nandhu\\appdata\\local\\programs\\python\\python310\\lib\\site-packages (from tensorboard<2.13,>=2.12->tensorflow-intel==2.12.0->tensorflow) (1.0.0)\n",
      "Requirement already satisfied: markdown>=2.6.8 in c:\\users\\nandhu\\appdata\\local\\programs\\python\\python310\\lib\\site-packages (from tensorboard<2.13,>=2.12->tensorflow-intel==2.12.0->tensorflow) (3.4.3)\n",
      "Requirement already satisfied: requests<3,>=2.21.0 in c:\\users\\nandhu\\appdata\\local\\programs\\python\\python310\\lib\\site-packages (from tensorboard<2.13,>=2.12->tensorflow-intel==2.12.0->tensorflow) (2.28.2)\n",
      "Requirement already satisfied: tensorboard-data-server<0.8.0,>=0.7.0 in c:\\users\\nandhu\\appdata\\local\\programs\\python\\python310\\lib\\site-packages (from tensorboard<2.13,>=2.12->tensorflow-intel==2.12.0->tensorflow) (0.7.0)\n",
      "Requirement already satisfied: tensorboard-plugin-wit>=1.6.0 in c:\\users\\nandhu\\appdata\\local\\programs\\python\\python310\\lib\\site-packages (from tensorboard<2.13,>=2.12->tensorflow-intel==2.12.0->tensorflow) (1.8.1)\n",
      "Requirement already satisfied: werkzeug>=1.0.1 in c:\\users\\nandhu\\appdata\\local\\programs\\python\\python310\\lib\\site-packages (from tensorboard<2.13,>=2.12->tensorflow-intel==2.12.0->tensorflow) (2.2.3)\n",
      "Requirement already satisfied: cachetools<6.0,>=2.0.0 in c:\\users\\nandhu\\appdata\\local\\programs\\python\\python310\\lib\\site-packages (from google-auth<3,>=1.6.3->tensorboard<2.13,>=2.12->tensorflow-intel==2.12.0->tensorflow) (5.3.0)\n",
      "Requirement already satisfied: pyasn1-modules>=0.2.1 in c:\\users\\nandhu\\appdata\\local\\programs\\python\\python310\\lib\\site-packages (from google-auth<3,>=1.6.3->tensorboard<2.13,>=2.12->tensorflow-intel==2.12.0->tensorflow) (0.2.8)\n",
      "Requirement already satisfied: rsa<5,>=3.1.4 in c:\\users\\nandhu\\appdata\\local\\programs\\python\\python310\\lib\\site-packages (from google-auth<3,>=1.6.3->tensorboard<2.13,>=2.12->tensorflow-intel==2.12.0->tensorflow) (4.9)\n",
      "Requirement already satisfied: requests-oauthlib>=0.7.0 in c:\\users\\nandhu\\appdata\\local\\programs\\python\\python310\\lib\\site-packages (from google-auth-oauthlib<1.1,>=0.5->tensorboard<2.13,>=2.12->tensorflow-intel==2.12.0->tensorflow) (1.3.1)\n",
      "Requirement already satisfied: charset-normalizer<4,>=2 in c:\\users\\nandhu\\appdata\\local\\programs\\python\\python310\\lib\\site-packages (from requests<3,>=2.21.0->tensorboard<2.13,>=2.12->tensorflow-intel==2.12.0->tensorflow) (3.1.0)\n",
      "Requirement already satisfied: idna<4,>=2.5 in c:\\users\\nandhu\\appdata\\local\\programs\\python\\python310\\lib\\site-packages (from requests<3,>=2.21.0->tensorboard<2.13,>=2.12->tensorflow-intel==2.12.0->tensorflow) (3.4)\n",
      "Requirement already satisfied: urllib3<1.27,>=1.21.1 in c:\\users\\nandhu\\appdata\\local\\programs\\python\\python310\\lib\\site-packages (from requests<3,>=2.21.0->tensorboard<2.13,>=2.12->tensorflow-intel==2.12.0->tensorflow) (1.26.14)\n",
      "Requirement already satisfied: certifi>=2017.4.17 in c:\\users\\nandhu\\appdata\\local\\programs\\python\\python310\\lib\\site-packages (from requests<3,>=2.21.0->tensorboard<2.13,>=2.12->tensorflow-intel==2.12.0->tensorflow) (2022.12.7)\n",
      "Requirement already satisfied: MarkupSafe>=2.1.1 in c:\\users\\nandhu\\appdata\\local\\programs\\python\\python310\\lib\\site-packages (from werkzeug>=1.0.1->tensorboard<2.13,>=2.12->tensorflow-intel==2.12.0->tensorflow) (2.1.2)\n",
      "Requirement already satisfied: pyasn1<0.5.0,>=0.4.6 in c:\\users\\nandhu\\appdata\\local\\programs\\python\\python310\\lib\\site-packages (from pyasn1-modules>=0.2.1->google-auth<3,>=1.6.3->tensorboard<2.13,>=2.12->tensorflow-intel==2.12.0->tensorflow) (0.4.8)\n",
      "Requirement already satisfied: oauthlib>=3.0.0 in c:\\users\\nandhu\\appdata\\local\\programs\\python\\python310\\lib\\site-packages (from requests-oauthlib>=0.7.0->google-auth-oauthlib<1.1,>=0.5->tensorboard<2.13,>=2.12->tensorflow-intel==2.12.0->tensorflow) (3.2.2)\n",
      "Note: you may need to restart the kernel to use updated packages.\n"
     ]
    },
    {
     "name": "stderr",
     "output_type": "stream",
     "text": [
      "\n",
      "[notice] A new release of pip is available: 23.1 -> 23.1.2\n",
      "[notice] To update, run: python.exe -m pip install --upgrade pip\n"
     ]
    }
   ],
   "source": [
    "pip install tensorflow"
   ]
  },
  {
   "cell_type": "markdown",
   "metadata": {},
   "source": [
    "build a neural network model using the Keras Sequential API"
   ]
  },
  {
   "cell_type": "code",
   "execution_count": 25,
   "metadata": {
    "id": "YtyT0jiwbmv0"
   },
   "outputs": [],
   "source": [
    "import tensorflow as tf\n",
    "from keras.models import Sequential\n",
    "from keras.layers import Dense\n",
    "model = Sequential([\n",
    "    Dense(units=32, activation='relu'),\n",
    "    Dense(units=1)\n",
    "])"
   ]
  },
  {
   "cell_type": "markdown",
   "metadata": {},
   "source": [
    "compile the model by using Adam as the optimizer with a learning rate of 0.1 and MSE as the learning goal"
   ]
  },
  {
   "cell_type": "code",
   "execution_count": 26,
   "metadata": {
    "id": "Qn4HzIioc8Ns"
   },
   "outputs": [],
   "source": [
    "model.compile(loss='mean_squared_error',optimizer=tf.keras.optimizers.Adam(0.1))"
   ]
  },
  {
   "cell_type": "markdown",
   "metadata": {},
   "source": [
    "train it against the training set:"
   ]
  },
  {
   "cell_type": "code",
   "execution_count": 27,
   "metadata": {
    "id": "ZRaGHcM0dU-d"
   },
   "outputs": [
    {
     "name": "stdout",
     "output_type": "stream",
     "text": [
      "Epoch 1/100\n",
      "235/235 [==============================] - 3s 2ms/step - loss: 30426116.0000\n",
      "Epoch 2/100\n",
      "235/235 [==============================] - 0s 1ms/step - loss: 2041631.2500\n",
      "Epoch 3/100\n",
      "235/235 [==============================] - 0s 1ms/step - loss: 645614.7500\n",
      "Epoch 4/100\n",
      "235/235 [==============================] - 0s 1ms/step - loss: 221638.0938\n",
      "Epoch 5/100\n",
      "235/235 [==============================] - 0s 1ms/step - loss: 94264.3750\n",
      "Epoch 6/100\n",
      "235/235 [==============================] - 0s 1ms/step - loss: 51147.5547\n",
      "Epoch 7/100\n",
      "235/235 [==============================] - 0s 1ms/step - loss: 36648.4844\n",
      "Epoch 8/100\n",
      "235/235 [==============================] - 0s 1ms/step - loss: 30582.0312\n",
      "Epoch 9/100\n",
      "235/235 [==============================] - 0s 1ms/step - loss: 25055.5352\n",
      "Epoch 10/100\n",
      "235/235 [==============================] - 0s 1ms/step - loss: 24425.8027\n",
      "Epoch 11/100\n",
      "235/235 [==============================] - 0s 1ms/step - loss: 23877.1172\n",
      "Epoch 12/100\n",
      "235/235 [==============================] - 0s 1ms/step - loss: 23752.7910\n",
      "Epoch 13/100\n",
      "235/235 [==============================] - 0s 1ms/step - loss: 25189.5840\n",
      "Epoch 14/100\n",
      "235/235 [==============================] - 0s 1ms/step - loss: 24725.7109\n",
      "Epoch 15/100\n",
      "235/235 [==============================] - 0s 1ms/step - loss: 26219.5527\n",
      "Epoch 16/100\n",
      "235/235 [==============================] - 0s 1ms/step - loss: 29922.5234\n",
      "Epoch 17/100\n",
      "235/235 [==============================] - 0s 1ms/step - loss: 27889.6348\n",
      "Epoch 18/100\n",
      "235/235 [==============================] - 0s 2ms/step - loss: 33830.7070\n",
      "Epoch 19/100\n",
      "235/235 [==============================] - 0s 1ms/step - loss: 28156.6621\n",
      "Epoch 20/100\n",
      "235/235 [==============================] - 0s 1ms/step - loss: 33784.2422\n",
      "Epoch 21/100\n",
      "235/235 [==============================] - 0s 1ms/step - loss: 26457.6934\n",
      "Epoch 22/100\n",
      "235/235 [==============================] - 0s 1ms/step - loss: 26020.6133\n",
      "Epoch 23/100\n",
      "235/235 [==============================] - 0s 1ms/step - loss: 28861.6094\n",
      "Epoch 24/100\n",
      "235/235 [==============================] - 0s 1ms/step - loss: 24609.4043\n",
      "Epoch 25/100\n",
      "235/235 [==============================] - 0s 1ms/step - loss: 24253.8398\n",
      "Epoch 26/100\n",
      "235/235 [==============================] - 0s 1ms/step - loss: 27912.1602\n",
      "Epoch 27/100\n",
      "235/235 [==============================] - 0s 1ms/step - loss: 33391.7695\n",
      "Epoch 28/100\n",
      "235/235 [==============================] - 0s 1ms/step - loss: 26055.7539\n",
      "Epoch 29/100\n",
      "235/235 [==============================] - 0s 1ms/step - loss: 22524.2188\n",
      "Epoch 30/100\n",
      "235/235 [==============================] - 0s 1ms/step - loss: 29082.1504\n",
      "Epoch 31/100\n",
      "235/235 [==============================] - 0s 1ms/step - loss: 31267.7852\n",
      "Epoch 32/100\n",
      "235/235 [==============================] - 0s 1ms/step - loss: 26445.5020\n",
      "Epoch 33/100\n",
      "235/235 [==============================] - 0s 1ms/step - loss: 23283.5156\n",
      "Epoch 34/100\n",
      "235/235 [==============================] - 0s 1ms/step - loss: 29119.8750\n",
      "Epoch 35/100\n",
      "235/235 [==============================] - 0s 1ms/step - loss: 22219.9824\n",
      "Epoch 36/100\n",
      "235/235 [==============================] - 0s 1ms/step - loss: 25307.4746\n",
      "Epoch 37/100\n",
      "235/235 [==============================] - 0s 1ms/step - loss: 26774.0586\n",
      "Epoch 38/100\n",
      "235/235 [==============================] - 0s 1ms/step - loss: 29075.9102\n",
      "Epoch 39/100\n",
      "235/235 [==============================] - 0s 1ms/step - loss: 26869.5879\n",
      "Epoch 40/100\n",
      "235/235 [==============================] - 0s 1ms/step - loss: 29286.9258\n",
      "Epoch 41/100\n",
      "235/235 [==============================] - 0s 1ms/step - loss: 22579.9414\n",
      "Epoch 42/100\n",
      "235/235 [==============================] - 0s 1ms/step - loss: 28117.3438\n",
      "Epoch 43/100\n",
      "235/235 [==============================] - 0s 1ms/step - loss: 23670.8164\n",
      "Epoch 44/100\n",
      "235/235 [==============================] - 0s 1ms/step - loss: 24134.4023\n",
      "Epoch 45/100\n",
      "235/235 [==============================] - 0s 1ms/step - loss: 27219.6875\n",
      "Epoch 46/100\n",
      "235/235 [==============================] - 0s 1ms/step - loss: 22373.0410\n",
      "Epoch 47/100\n",
      "235/235 [==============================] - 0s 1ms/step - loss: 22583.3086\n",
      "Epoch 48/100\n",
      "235/235 [==============================] - 0s 2ms/step - loss: 22276.4453\n",
      "Epoch 49/100\n",
      "235/235 [==============================] - 0s 1ms/step - loss: 24466.5469\n",
      "Epoch 50/100\n",
      "235/235 [==============================] - 0s 1ms/step - loss: 25466.5156\n",
      "Epoch 51/100\n",
      "235/235 [==============================] - 0s 1ms/step - loss: 24624.7305\n",
      "Epoch 52/100\n",
      "235/235 [==============================] - 0s 1ms/step - loss: 24890.9297\n",
      "Epoch 53/100\n",
      "235/235 [==============================] - 0s 1ms/step - loss: 21677.3711\n",
      "Epoch 54/100\n",
      "235/235 [==============================] - 0s 1ms/step - loss: 23432.4668\n",
      "Epoch 55/100\n",
      "235/235 [==============================] - 0s 1ms/step - loss: 20676.7480\n",
      "Epoch 56/100\n",
      "235/235 [==============================] - 0s 1ms/step - loss: 25507.8945\n",
      "Epoch 57/100\n",
      "235/235 [==============================] - 0s 1ms/step - loss: 22843.4863\n",
      "Epoch 58/100\n",
      "235/235 [==============================] - 0s 1ms/step - loss: 25257.3301\n",
      "Epoch 59/100\n",
      "235/235 [==============================] - 0s 1ms/step - loss: 22616.3809\n",
      "Epoch 60/100\n",
      "235/235 [==============================] - 0s 1ms/step - loss: 24370.1152\n",
      "Epoch 61/100\n",
      "235/235 [==============================] - 0s 1ms/step - loss: 22519.1250\n",
      "Epoch 62/100\n",
      "235/235 [==============================] - 0s 2ms/step - loss: 22307.2715\n",
      "Epoch 63/100\n",
      "235/235 [==============================] - 0s 1ms/step - loss: 23682.5684\n",
      "Epoch 64/100\n",
      "235/235 [==============================] - 0s 1ms/step - loss: 21995.3887\n",
      "Epoch 65/100\n",
      "235/235 [==============================] - 0s 1ms/step - loss: 20963.6406\n",
      "Epoch 66/100\n",
      "235/235 [==============================] - 0s 1ms/step - loss: 25172.3691\n",
      "Epoch 67/100\n",
      "235/235 [==============================] - 0s 1ms/step - loss: 22114.1211\n",
      "Epoch 68/100\n",
      "235/235 [==============================] - 0s 1ms/step - loss: 22558.2363\n",
      "Epoch 69/100\n",
      "235/235 [==============================] - 0s 1ms/step - loss: 27770.6250\n",
      "Epoch 70/100\n",
      "235/235 [==============================] - 0s 1ms/step - loss: 23539.6621\n",
      "Epoch 71/100\n",
      "235/235 [==============================] - 0s 1ms/step - loss: 21070.2012\n",
      "Epoch 72/100\n",
      "235/235 [==============================] - 0s 1ms/step - loss: 26528.2441\n",
      "Epoch 73/100\n",
      "235/235 [==============================] - 0s 1ms/step - loss: 23208.6465\n",
      "Epoch 74/100\n",
      "235/235 [==============================] - 0s 1ms/step - loss: 20513.0020\n",
      "Epoch 75/100\n",
      "235/235 [==============================] - 0s 2ms/step - loss: 18895.6367\n",
      "Epoch 76/100\n",
      "235/235 [==============================] - 0s 1ms/step - loss: 20555.2754\n",
      "Epoch 77/100\n",
      "235/235 [==============================] - 0s 1ms/step - loss: 22864.9961\n",
      "Epoch 78/100\n",
      "235/235 [==============================] - 0s 2ms/step - loss: 21248.0000\n",
      "Epoch 79/100\n",
      "235/235 [==============================] - 0s 1ms/step - loss: 20823.7715\n",
      "Epoch 80/100\n",
      "235/235 [==============================] - 0s 1ms/step - loss: 20088.9688\n",
      "Epoch 81/100\n",
      "235/235 [==============================] - 0s 2ms/step - loss: 20925.4355\n",
      "Epoch 82/100\n",
      "235/235 [==============================] - 0s 1ms/step - loss: 22818.0723\n",
      "Epoch 83/100\n",
      "235/235 [==============================] - 0s 1ms/step - loss: 20773.7871\n",
      "Epoch 84/100\n",
      "235/235 [==============================] - 0s 2ms/step - loss: 20280.4961\n",
      "Epoch 85/100\n",
      "235/235 [==============================] - 0s 1ms/step - loss: 19841.8125\n",
      "Epoch 86/100\n",
      "235/235 [==============================] - 0s 1ms/step - loss: 24581.5234\n",
      "Epoch 87/100\n",
      "235/235 [==============================] - 0s 1ms/step - loss: 22111.5898\n",
      "Epoch 88/100\n",
      "235/235 [==============================] - 0s 1ms/step - loss: 20615.9473\n",
      "Epoch 89/100\n",
      "235/235 [==============================] - 0s 1ms/step - loss: 20700.1621\n",
      "Epoch 90/100\n",
      "235/235 [==============================] - 0s 1ms/step - loss: 18861.0195\n",
      "Epoch 91/100\n",
      "235/235 [==============================] - 0s 1ms/step - loss: 22169.4609\n",
      "Epoch 92/100\n",
      "235/235 [==============================] - 0s 1ms/step - loss: 23281.1602\n",
      "Epoch 93/100\n",
      "235/235 [==============================] - 0s 1ms/step - loss: 20655.0078\n",
      "Epoch 94/100\n",
      "235/235 [==============================] - 0s 1ms/step - loss: 20853.8965\n",
      "Epoch 95/100\n"
     ]
    },
    {
     "name": "stdout",
     "output_type": "stream",
     "text": [
      "235/235 [==============================] - 0s 1ms/step - loss: 21590.3789\n",
      "Epoch 96/100\n",
      "235/235 [==============================] - 0s 1ms/step - loss: 19677.5449\n",
      "Epoch 97/100\n",
      "235/235 [==============================] - 0s 1ms/step - loss: 20981.2324\n",
      "Epoch 98/100\n",
      "235/235 [==============================] - 0s 1ms/step - loss: 19154.8320\n",
      "Epoch 99/100\n",
      "235/235 [==============================] - 0s 1ms/step - loss: 20177.3203\n",
      "Epoch 100/100\n",
      "235/235 [==============================] - 0s 1ms/step - loss: 21984.9570\n"
     ]
    },
    {
     "data": {
      "text/plain": [
       "<keras.callbacks.History at 0x14a1621a320>"
      ]
     },
     "execution_count": 27,
     "metadata": {},
     "output_type": "execute_result"
    }
   ],
   "source": [
    "model.fit(X_scaled_train, y_train, epochs=100, verbose = True)"
   ]
  },
  {
   "cell_type": "markdown",
   "metadata": {},
   "source": [
    "the trained model to predict the testing data and display metrics"
   ]
  },
  {
   "cell_type": "code",
   "execution_count": 28,
   "metadata": {},
   "outputs": [
    {
     "name": "stdout",
     "output_type": "stream",
     "text": [
      "8/8 [==============================] - 0s 2ms/step\n"
     ]
    }
   ],
   "source": [
    "predictions = model.predict(X_scaled_test)[:, 0]"
   ]
  },
  {
   "cell_type": "code",
   "execution_count": 29,
   "metadata": {
    "colab": {
     "base_uri": "https://localhost:8080/"
    },
    "id": "ocoogn63MBSS",
    "outputId": "630d889c-72d3-4724-f81d-8d1771c0647c"
   },
   "outputs": [
    {
     "name": "stdout",
     "output_type": "stream",
     "text": [
      "MSE: 65649.632\n",
      "R^2: 0.943\n",
      "MAE: 220.449\n"
     ]
    }
   ],
   "source": [
    "from sklearn.metrics import mean_squared_error, mean_absolute_error, r2_score\n",
    "print(f'MSE: {mean_squared_error(y_test, predictions):.3f}')\n",
    "print(f'R^2: {r2_score (y_test, predictions):.3f}')\n",
    "print(f'MAE: {mean_absolute_error(y_test, predictions):.3f}')"
   ]
  },
  {
   "cell_type": "markdown",
   "metadata": {},
   "source": [
    "Base model using SVM "
   ]
  },
  {
   "cell_type": "code",
   "execution_count": 127,
   "metadata": {},
   "outputs": [],
   "source": [
    "from sklearn.preprocessing import StandardScaler\n",
    "from sklearn.model_selection import train_test_split\n",
    "from sklearn.svm import SVR\n",
    "from sklearn.linear_model import LogisticRegression\n",
    "from sklearn.metrics import r2_score, mean_squared_error\n",
    "import matplotlib.pyplot as plt"
   ]
  },
  {
   "cell_type": "code",
   "execution_count": 128,
   "metadata": {},
   "outputs": [],
   "source": [
    "# Split the data into training and test sets\n",
    "start_train = '1988-03-01'\n",
    "end_train = '2018-12-31'\n",
    "start_test = '2019-01-01'\n",
    "end_test ='2019-12-31'\n",
    "data_train = mydata.loc[start_train:end_train]\n",
    "X_train = data_train.drop('Close', axis=1).values\n",
    "y_train = data_train['Close'].values\n",
    "data_test = mydata.loc[start_test: end_test]\n",
    "X_test = data_test.drop('Close', axis=1).values\n",
    "y_test = data_test['Close'].values"
   ]
  },
  {
   "cell_type": "code",
   "execution_count": 129,
   "metadata": {},
   "outputs": [
    {
     "name": "stdout",
     "output_type": "stream",
     "text": [
      "MSE: 256538460.501\n",
      "R^2: -220.017\n",
      "MAE: 15980.579\n"
     ]
    }
   ],
   "source": [
    "# Train and evaluate the SVM model\n",
    "svm = SVR(kernel='rbf')\n",
    "svm.fit(X_train, y_train)\n",
    "svm_pred = svm.predict(X_test)\n",
    "svm_r2 = r2_score(y_test, svm_pred)\n",
    "svm_mse = mean_squared_error(y_test, svm_pred)\n",
    "print(f'MSE: {mean_squared_error(y_test, svm_pred):.3f}')\n",
    "print(f'R^2: {r2_score (y_test, svm_pred):.3f}')\n",
    "print(f'MAE: {mean_absolute_error(y_test, svm_pred):.3f}')"
   ]
  },
  {
   "cell_type": "markdown",
   "metadata": {},
   "source": [
    "Fine-tuning the neural network for better performance"
   ]
  },
  {
   "cell_type": "markdown",
   "metadata": {},
   "source": [
    "hparams module in TensorFlow"
   ]
  },
  {
   "cell_type": "code",
   "execution_count": 30,
   "metadata": {
    "id": "2PsM_4CiMcr1"
   },
   "outputs": [],
   "source": [
    "from tensorboard.plugins.hparams import api as hp"
   ]
  },
  {
   "cell_type": "code",
   "execution_count": 31,
   "metadata": {
    "id": "UKnr55lqMeUI"
   },
   "outputs": [],
   "source": [
    "HP_HIDDEN= hp.HParam('hidden_size', hp.Discrete([64, 32, 16]))\n",
    "HP_EPOCHS = hp.HParam('epochs', hp.Discrete ([300, 1000])) \n",
    "HP_LEARNING_RATE= hp.HParam('learning_rate', hp.RealInterval (0.01, 0.4))"
   ]
  },
  {
   "cell_type": "markdown",
   "metadata": {},
   "source": [
    "After initializing the hyperparameters to optimize, we now create a function to train and validate the model that will \n",
    "take the hyperparameters as arguments, and output the performance:"
   ]
  },
  {
   "cell_type": "code",
   "execution_count": 32,
   "metadata": {
    "id": "9W2qiK3bNso6"
   },
   "outputs": [],
   "source": [
    "def train_test_model(hparams, logdir):\n",
    "  model = Sequential([\n",
    "      Dense (units=hparams [HP_HIDDEN], activation='relu'),\n",
    "      Dense (units=1)\n",
    "  ])\n",
    "  model.compile(loss='mean_squared_error', optimizer=tf.keras.optimizers.Adam( hparams[HP_LEARNING_RATE]),\n",
    "  metrics=['mean_squared_error'])\n",
    "  model.fit(X_scaled_train, y_train, validation_data= (X_scaled_test, y_test), epochs=hparams [HP_EPOCHS], verbose=False,\n",
    "            callbacks=[\n",
    "                tf.keras.callbacks. TensorBoard (logdir),\n",
    "                hp.KerasCallback(logdir, hparams),\n",
    "                tf.keras.callbacks.EarlyStopping(\n",
    "                    monitor= 'val_loss', min_delta=0, \n",
    "                    patience=200, verbose=0, \n",
    "                    mode= 'auto',\n",
    "                )],\n",
    "  )\n",
    "\n",
    "  _, mse = model.evaluate(X_scaled_test, y_test) \n",
    "  pred = model.predict(X_scaled_test)\n",
    "  r2 = r2_score (y_test, pred)\n",
    "  return mse, r2"
   ]
  },
  {
   "cell_type": "markdown",
   "metadata": {},
   "source": [
    "develop a function to initiate a training process with a combination of hyperparameters to be assessed \n",
    "and the metrics for MSE and R2 returned by the train_test_model function:\n"
   ]
  },
  {
   "cell_type": "code",
   "execution_count": 33,
   "metadata": {
    "id": "JRBnolhSNz9O"
   },
   "outputs": [],
   "source": [
    "def run (hparams, logdir):\n",
    "  with tf.summary.create_file_writer(logdir).as_default(): \n",
    "    hp.hparams_config(\n",
    "      hparams=[HP_HIDDEN, HP_EPOCHS, HP_LEARNING_RATE],\n",
    "      metrics=[hp.Metric ('mean_squared_error', display_name='mse'), hp.Metric('r2', display_name='r2')],)\n",
    "    mse, r2 = train_test_model(hparams, logdir) \n",
    "    tf.summary.scalar ('mean_squared_error', mse, step=1)\n",
    "    tf.summary.scalar('r2', r2, step=1)"
   ]
  },
  {
   "cell_type": "code",
   "execution_count": 34,
   "metadata": {},
   "outputs": [],
   "source": [
    "session_num = 0"
   ]
  },
  {
   "cell_type": "markdown",
   "metadata": {},
   "source": [
    "Now train the model for each different combination of the hyperparameters"
   ]
  },
  {
   "cell_type": "code",
   "execution_count": 35,
   "metadata": {
    "colab": {
     "base_uri": "https://localhost:8080/",
     "height": 244
    },
    "id": "c7Hk5eQCOX6O",
    "outputId": "b27680db-1d81-4824-99f0-91c24693955a"
   },
   "outputs": [
    {
     "name": "stdout",
     "output_type": "stream",
     "text": [
      "- Starting trial: run-0\n",
      "{'hidden_size': 16, 'epochs': 300, 'learning_rate': 0.01}\n",
      "8/8 [==============================] - 0s 5ms/step - loss: 53216.8906 - mean_squared_error: 53216.8906\n",
      "8/8 [==============================] - 0s 2ms/step\n",
      "- Starting trial: run-1\n",
      "{'hidden_size': 16, 'epochs': 300, 'learning_rate': 0.11}\n",
      "8/8 [==============================] - 0s 2ms/step - loss: 92950.8047 - mean_squared_error: 92950.8047\n",
      "8/8 [==============================] - 0s 0s/step\n",
      "- Starting trial: run-2\n",
      "{'hidden_size': 16, 'epochs': 300, 'learning_rate': 0.21}\n",
      "8/8 [==============================] - 0s 2ms/step - loss: 63225.5547 - mean_squared_error: 63225.5547\n",
      "8/8 [==============================] - 0s 0s/step\n",
      "- Starting trial: run-3\n",
      "{'hidden_size': 16, 'epochs': 300, 'learning_rate': 0.3}\n",
      "8/8 [==============================] - 0s 2ms/step - loss: 33007.2695 - mean_squared_error: 33007.2695\n",
      "8/8 [==============================] - 0s 583us/step\n",
      "- Starting trial: run-4\n",
      "{'hidden_size': 16, 'epochs': 300, 'learning_rate': 0.4}\n",
      "8/8 [==============================] - 0s 2ms/step - loss: 63964.4922 - mean_squared_error: 63964.4922\n",
      "8/8 [==============================] - 0s 0s/step\n",
      "- Starting trial: run-5\n",
      "{'hidden_size': 16, 'epochs': 1000, 'learning_rate': 0.01}\n",
      "8/8 [==============================] - 0s 2ms/step - loss: 33285.1484 - mean_squared_error: 33285.1484\n",
      "8/8 [==============================] - 0s 2ms/step\n",
      "- Starting trial: run-6\n",
      "{'hidden_size': 16, 'epochs': 1000, 'learning_rate': 0.11}\n",
      "8/8 [==============================] - 0s 2ms/step - loss: 109127.9141 - mean_squared_error: 109127.9141\n",
      "8/8 [==============================] - 0s 2ms/step\n",
      "- Starting trial: run-7\n",
      "{'hidden_size': 16, 'epochs': 1000, 'learning_rate': 0.21}\n",
      "8/8 [==============================] - 0s 2ms/step - loss: 57243.9805 - mean_squared_error: 57243.9805\n",
      "8/8 [==============================] - 0s 2ms/step\n",
      "- Starting trial: run-8\n",
      "{'hidden_size': 16, 'epochs': 1000, 'learning_rate': 0.3}\n",
      "8/8 [==============================] - 0s 2ms/step - loss: 74536.7969 - mean_squared_error: 74536.7969\n",
      "8/8 [==============================] - 0s 2ms/step\n",
      "- Starting trial: run-9\n",
      "{'hidden_size': 16, 'epochs': 1000, 'learning_rate': 0.4}\n",
      "8/8 [==============================] - 0s 2ms/step - loss: 41389.1094 - mean_squared_error: 41389.1094\n",
      "8/8 [==============================] - 0s 2ms/step\n",
      "- Starting trial: run-10\n",
      "{'hidden_size': 32, 'epochs': 300, 'learning_rate': 0.01}\n",
      "8/8 [==============================] - 0s 2ms/step - loss: 211156.6406 - mean_squared_error: 211156.6406\n",
      "8/8 [==============================] - 0s 0s/step\n",
      "- Starting trial: run-11\n",
      "{'hidden_size': 32, 'epochs': 300, 'learning_rate': 0.11}\n",
      "8/8 [==============================] - 0s 0s/step - loss: 55503.2305 - mean_squared_error: 55503.2305\n",
      "8/8 [==============================] - 0s 1ms/step\n",
      "- Starting trial: run-12\n",
      "{'hidden_size': 32, 'epochs': 300, 'learning_rate': 0.21}\n",
      "8/8 [==============================] - 0s 2ms/step - loss: 61576.7461 - mean_squared_error: 61576.7461\n",
      "8/8 [==============================] - 0s 2ms/step\n",
      "- Starting trial: run-13\n",
      "{'hidden_size': 32, 'epochs': 300, 'learning_rate': 0.3}\n",
      "8/8 [==============================] - 0s 2ms/step - loss: 34888.6289 - mean_squared_error: 34888.6289\n",
      "8/8 [==============================] - 0s 0s/step\n",
      "- Starting trial: run-14\n",
      "{'hidden_size': 32, 'epochs': 300, 'learning_rate': 0.4}\n",
      "8/8 [==============================] - 0s 3ms/step - loss: 49624.2109 - mean_squared_error: 49624.2109\n",
      "8/8 [==============================] - 0s 1ms/step\n",
      "- Starting trial: run-15\n",
      "{'hidden_size': 32, 'epochs': 1000, 'learning_rate': 0.01}\n",
      "8/8 [==============================] - 0s 0s/step - loss: 41239.8984 - mean_squared_error: 41239.8984\n",
      "8/8 [==============================] - 0s 2ms/step\n",
      "- Starting trial: run-16\n",
      "{'hidden_size': 32, 'epochs': 1000, 'learning_rate': 0.11}\n",
      "8/8 [==============================] - 0s 2ms/step - loss: 100317.0469 - mean_squared_error: 100317.0469\n",
      "8/8 [==============================] - 0s 2ms/step\n",
      "- Starting trial: run-17\n",
      "{'hidden_size': 32, 'epochs': 1000, 'learning_rate': 0.21}\n",
      "8/8 [==============================] - 0s 2ms/step - loss: 47657.5781 - mean_squared_error: 47657.5781\n",
      "8/8 [==============================] - 0s 0s/step\n",
      "- Starting trial: run-18\n",
      "{'hidden_size': 32, 'epochs': 1000, 'learning_rate': 0.3}\n",
      "8/8 [==============================] - 0s 4ms/step - loss: 31396.4844 - mean_squared_error: 31396.4844\n",
      "8/8 [==============================] - 0s 0s/step\n",
      "- Starting trial: run-19\n",
      "{'hidden_size': 32, 'epochs': 1000, 'learning_rate': 0.4}\n",
      "8/8 [==============================] - 0s 2ms/step - loss: 73492.1016 - mean_squared_error: 73492.1016\n",
      "8/8 [==============================] - 0s 2ms/step\n",
      "- Starting trial: run-20\n",
      "{'hidden_size': 64, 'epochs': 300, 'learning_rate': 0.01}\n",
      "8/8 [==============================] - 0s 2ms/step - loss: 178054.2344 - mean_squared_error: 178054.2344\n",
      "8/8 [==============================] - 0s 0s/step\n",
      "- Starting trial: run-21\n",
      "{'hidden_size': 64, 'epochs': 300, 'learning_rate': 0.11}\n",
      "8/8 [==============================] - 0s 0s/step - loss: 44029.2227 - mean_squared_error: 44029.2227\n",
      "8/8 [==============================] - 0s 2ms/step\n",
      "- Starting trial: run-22\n",
      "{'hidden_size': 64, 'epochs': 300, 'learning_rate': 0.21}\n",
      "8/8 [==============================] - 0s 2ms/step - loss: 67737.7734 - mean_squared_error: 67737.7734\n",
      "8/8 [==============================] - 0s 2ms/step\n",
      "- Starting trial: run-23\n",
      "{'hidden_size': 64, 'epochs': 300, 'learning_rate': 0.3}\n",
      "8/8 [==============================] - 0s 2ms/step - loss: 42794.7344 - mean_squared_error: 42794.7344\n",
      "8/8 [==============================] - 0s 3ms/step\n",
      "- Starting trial: run-24\n",
      "{'hidden_size': 64, 'epochs': 300, 'learning_rate': 0.4}\n",
      "8/8 [==============================] - 0s 2ms/step - loss: 57373.0586 - mean_squared_error: 57373.0586\n",
      "8/8 [==============================] - 0s 0s/step\n",
      "- Starting trial: run-25\n",
      "{'hidden_size': 64, 'epochs': 1000, 'learning_rate': 0.01}\n",
      "8/8 [==============================] - 0s 2ms/step - loss: 57198.1797 - mean_squared_error: 57198.1797\n",
      "8/8 [==============================] - 0s 2ms/step\n",
      "- Starting trial: run-26\n",
      "{'hidden_size': 64, 'epochs': 1000, 'learning_rate': 0.11}\n",
      "8/8 [==============================] - 0s 0s/step - loss: 82587.2188 - mean_squared_error: 82587.2188\n",
      "8/8 [==============================] - 0s 2ms/step\n",
      "- Starting trial: run-27\n",
      "{'hidden_size': 64, 'epochs': 1000, 'learning_rate': 0.21}\n",
      "8/8 [==============================] - 0s 0s/step - loss: 38714.0000 - mean_squared_error: 38714.0000\n",
      "8/8 [==============================] - 0s 0s/step\n",
      "- Starting trial: run-28\n",
      "{'hidden_size': 64, 'epochs': 1000, 'learning_rate': 0.3}\n",
      "8/8 [==============================] - 0s 0s/step - loss: 34338.4219 - mean_squared_error: 34338.4219\n",
      "8/8 [==============================] - 0s 2ms/step\n",
      "- Starting trial: run-29\n",
      "{'hidden_size': 64, 'epochs': 1000, 'learning_rate': 0.4}\n",
      "8/8 [==============================] - 0s 0s/step - loss: 40469.9766 - mean_squared_error: 40469.9766\n",
      "8/8 [==============================] - 0s 0s/step\n"
     ]
    }
   ],
   "source": [
    "for hidden in HP_HIDDEN.domain.values:\n",
    "  for epochs in HP_EPOCHS.domain.values:\n",
    "    for learning_rate in tf.linspace(HP_LEARNING_RATE.domain.min_value, \n",
    "                  HP_LEARNING_RATE.domain.max_value,\n",
    "                  5):\n",
    "      hparams = {\n",
    "        HP_HIDDEN: hidden,\n",
    "        HP_EPOCHS: epochs,\n",
    "        HP_LEARNING_RATE:\n",
    "          float(\"%.2f\"%float(learning_rate)),\n",
    "      }\n",
    "      run_name = \"run-%d\" % session_num\n",
    "      print('- Starting trial: %s' % run_name)\n",
    "      print({h.name: hparams[h] for h in hparams}) \n",
    "      run(hparams, 'logs/hparam_tuning/'+ run_name) \n",
    "      session_num += 1"
   ]
  },
  {
   "cell_type": "code",
   "execution_count": 37,
   "metadata": {},
   "outputs": [
    {
     "name": "stdout",
     "output_type": "stream",
     "text": [
      "The tensorboard extension is already loaded. To reload it, use:\n",
      "  %reload_ext tensorboard\n"
     ]
    }
   ],
   "source": [
    "# Load the TensorBoard notebook extension\n",
    "%load_ext tensorboard"
   ]
  },
  {
   "cell_type": "code",
   "execution_count": 38,
   "metadata": {},
   "outputs": [
    {
     "data": {
      "text/html": [
       "\n",
       "      <iframe id=\"tensorboard-frame-29182200b84b8906\" width=\"100%\" height=\"800\" frameborder=\"0\">\n",
       "      </iframe>\n",
       "      <script>\n",
       "        (function() {\n",
       "          const frame = document.getElementById(\"tensorboard-frame-29182200b84b8906\");\n",
       "          const url = new URL(\"/\", window.location);\n",
       "          const port = 6006;\n",
       "          if (port) {\n",
       "            url.port = port;\n",
       "          }\n",
       "          frame.src = url;\n",
       "        })();\n",
       "      </script>\n",
       "    "
      ],
      "text/plain": [
       "<IPython.core.display.HTML object>"
      ]
     },
     "metadata": {},
     "output_type": "display_data"
    }
   ],
   "source": [
    "%tensorboard --logdir logs/hparam_tuning --bind_all"
   ]
  },
  {
   "cell_type": "markdown",
   "metadata": {},
   "source": [
    "A new folder, logs, is created after the experiments start"
   ]
  },
  {
   "cell_type": "markdown",
   "metadata": {},
   "source": [
    "the optimal model to make predictions:"
   ]
  },
  {
   "cell_type": "code",
   "execution_count": 48,
   "metadata": {
    "id": "yOwkCIrVOZhh"
   },
   "outputs": [],
   "source": [
    "model = Sequential([\n",
    "    Dense(units=16, activation='relu'),\n",
    "    Dense(units=1)\n",
    "])"
   ]
  },
  {
   "cell_type": "code",
   "execution_count": 40,
   "metadata": {},
   "outputs": [],
   "source": [
    "model.compile(loss='mean_squared_error',\n",
    "              optimizer=tf.keras.optimizers.Adam(0.21))"
   ]
  },
  {
   "cell_type": "code",
   "execution_count": 41,
   "metadata": {},
   "outputs": [
    {
     "data": {
      "text/plain": [
       "<keras.callbacks.History at 0x14a1b0e8490>"
      ]
     },
     "execution_count": 41,
     "metadata": {},
     "output_type": "execute_result"
    }
   ],
   "source": [
    "model.fit(X_scaled_train, y_train, epochs=1000, verbose=False)"
   ]
  },
  {
   "cell_type": "code",
   "execution_count": 42,
   "metadata": {},
   "outputs": [
    {
     "name": "stdout",
     "output_type": "stream",
     "text": [
      "8/8 [==============================] - 0s 2ms/step\n"
     ]
    }
   ],
   "source": [
    "predictions = model.predict(X_scaled_test)[:, 0]"
   ]
  },
  {
   "cell_type": "code",
   "execution_count": 43,
   "metadata": {},
   "outputs": [
    {
     "name": "stdout",
     "output_type": "stream",
     "text": [
      "MSE: 29741.303\n",
      "R^2: 0.974\n",
      "MAE: 124.162\n"
     ]
    }
   ],
   "source": [
    "from sklearn.metrics import mean_squared_error, mean_absolute_error, r2_score\n",
    "print(f'MSE: {mean_squared_error(y_test, predictions):.3f}')\n",
    "print(f'R^2: {r2_score (y_test, predictions):.3f}')\n",
    "print(f'MAE: {mean_absolute_error(y_test, predictions):.3f}')"
   ]
  },
  {
   "cell_type": "code",
   "execution_count": 44,
   "metadata": {},
   "outputs": [
    {
     "name": "stdout",
     "output_type": "stream",
     "text": [
      "Requirement already satisfied: matplotlib in c:\\users\\nandhu\\appdata\\local\\programs\\python\\python310\\lib\\site-packages (3.7.1)\n",
      "Requirement already satisfied: contourpy>=1.0.1 in c:\\users\\nandhu\\appdata\\local\\programs\\python\\python310\\lib\\site-packages (from matplotlib) (1.0.7)\n",
      "Requirement already satisfied: cycler>=0.10 in c:\\users\\nandhu\\appdata\\local\\programs\\python\\python310\\lib\\site-packages (from matplotlib) (0.11.0)\n",
      "Requirement already satisfied: fonttools>=4.22.0 in c:\\users\\nandhu\\appdata\\local\\programs\\python\\python310\\lib\\site-packages (from matplotlib) (4.39.3)\n",
      "Requirement already satisfied: kiwisolver>=1.0.1 in c:\\users\\nandhu\\appdata\\local\\programs\\python\\python310\\lib\\site-packages (from matplotlib) (1.4.4)\n",
      "Requirement already satisfied: numpy>=1.20 in c:\\users\\nandhu\\appdata\\local\\programs\\python\\python310\\lib\\site-packages (from matplotlib) (1.23.5)\n",
      "Requirement already satisfied: packaging>=20.0 in c:\\users\\nandhu\\appdata\\local\\programs\\python\\python310\\lib\\site-packages (from matplotlib) (23.0)\n",
      "Requirement already satisfied: pillow>=6.2.0 in c:\\users\\nandhu\\appdata\\local\\programs\\python\\python310\\lib\\site-packages (from matplotlib) (9.4.0)\n",
      "Requirement already satisfied: pyparsing>=2.3.1 in c:\\users\\nandhu\\appdata\\local\\programs\\python\\python310\\lib\\site-packages (from matplotlib) (3.0.9)\n",
      "Requirement already satisfied: python-dateutil>=2.7 in c:\\users\\nandhu\\appdata\\local\\programs\\python\\python310\\lib\\site-packages (from matplotlib) (2.8.2)\n",
      "Requirement already satisfied: six>=1.5 in c:\\users\\nandhu\\appdata\\local\\programs\\python\\python310\\lib\\site-packages (from python-dateutil>=2.7->matplotlib) (1.16.0)\n",
      "Note: you may need to restart the kernel to use updated packages.\n"
     ]
    },
    {
     "name": "stderr",
     "output_type": "stream",
     "text": [
      "\n",
      "[notice] A new release of pip is available: 23.1 -> 23.1.2\n",
      "[notice] To update, run: python.exe -m pip install --upgrade pip\n"
     ]
    }
   ],
   "source": [
    "pip install matplotlib"
   ]
  },
  {
   "cell_type": "markdown",
   "metadata": {},
   "source": [
    "Plot for prediction of stock price for the year 2019 with good performance"
   ]
  },
  {
   "cell_type": "code",
   "execution_count": 125,
   "metadata": {},
   "outputs": [
    {
     "data": {
      "image/png": "[encoded data removed]",
      "text/plain": [
       "<Figure size 640x480 with 1 Axes>"
      ]
     },
     "metadata": {},
     "output_type": "display_data"
    }
   ],
   "source": [
    "import matplotlib.pyplot as plt\n",
    "plt.plot(data_test.index, y_test, c='k')\n",
    "plt.plot(data_test.index, predictions, c='b')\n",
    "plt.plot(data_test.index, predictions, c='r')\n",
    "plt.plot(data_test.index, predictions, c='g')\n",
    "plt.xticks(range(0, 252, 10), rotation=60)\n",
    "plt.xlabel('Date')\n",
    "plt.ylabel('Close price')\n",
    "plt.legend(['Truth', 'Neural network prediction'])\n",
    "plt.show()"
   ]
  },
  {
   "cell_type": "markdown",
   "metadata": {},
   "source": [
    "In this project the model is predicting the daily closing stock price for the year 2019. The data is split into training and testing sets, with the training data covering the period from March 1st, 1988 to December 31st, 2018, and the testing data covering the period from January 1st, 2019 to December 31st, 2019."
   ]
  },
  {
   "cell_type": "markdown",
   "metadata": {},
   "source": [
    "Baseline models prediciton of close price for the year 2019"
   ]
  },
  {
   "cell_type": "code",
   "execution_count": 126,
   "metadata": {},
   "outputs": [
    {
     "data": {
      "image/png": "[encoded data removed]",
      "text/plain": [
       "<Figure size 640x480 with 1 Axes>"
      ]
     },
     "metadata": {},
     "output_type": "display_data"
    }
   ],
   "source": [
    "plt.plot(data_test.index, y_test, c='k')\n",
    "plt.plot(data_test.index, svm_pred, c='b')\n",
    "plt.plot(data_test.index, svm_pred, c='r')\n",
    "plt.plot(data_test.index, svm_pred, c='g')\n",
    "plt.xticks(range(0, 252, 10), rotation=60)\n",
    "plt.xlabel('Date')\n",
    "plt.ylabel('Close price')\n",
    "plt.legend(['Truth', 'Neural network prediction'])\n",
    "plt.show()"
   ]
  },
  {
   "cell_type": "markdown",
   "metadata": {},
   "source": [
    "Results"
   ]
  },
  {
   "cell_type": "code",
   "execution_count": null,
   "metadata": {},
   "outputs": [],
   "source": [
    "From the above results baseline model with svm gives the poor performance when compared with neural network."
   ]
  },
  {
   "cell_type": "markdown",
   "metadata": {},
   "source": [
    "SVM results\n",
    "\n",
    "MSE: 256538460.501\n",
    "\n",
    "R^2: -220.017\n",
    "\n",
    "MAE: 15980.579\n",
    "    \n",
    "Neural network using sequential model with hyperparameter tuning of model\n",
    "\n",
    "MSE: 29741.303\n",
    "\n",
    "R^2: 0.974\n",
    "\n",
    "MAE: 124.162\n"
   ]
  },
  {
   "cell_type": "markdown",
   "metadata": {},
   "source": [
    "Based on the mean squared error (MSE), the SVM model has a higher value than the neural network using sequential model. This indicates that the SVM model has a higher level of error and is less accurate in predicting the output variable.\n",
    "The R-squared value for the SVM model is also negative, demonstrating that the model performs worse than a straightforward model that forecasts the output variable. The neural network utilizing sequential model, on the other hand, has a high R-squared value of 0.974, indicating that the model is performing extremely well in describing the variability of the output variable.\n",
    "This shows that the neural network using sequential model is a better performing model compared to the SVM model."
   ]
  },
  {
   "cell_type": "code",
   "execution_count": null,
   "metadata": {},
   "outputs": [],
   "source": []
  }
 ],
 "metadata": {
  "colab": {
   "provenance": []
  },
  "kernelspec": {
   "display_name": "Python 3 (ipykernel)",
   "language": "python",
   "name": "python3"
  },
  "language_info": {
   "codemirror_mode": {
    "name": "ipython",
    "version": 3
   },
   "file_extension": ".py",
   "mimetype": "text/x-python",
   "name": "python",
   "nbconvert_exporter": "python",
   "pygments_lexer": "ipython3",
   "version": "3.10.5"
  }
 },
 "nbformat": 4,
 "nbformat_minor": 1
}
